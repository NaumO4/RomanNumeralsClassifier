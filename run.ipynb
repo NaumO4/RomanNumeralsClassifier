{
 "cells": [
  {
   "cell_type": "code",
   "execution_count": null,
   "metadata": {},
   "outputs": [],
   "source": [
    "#install requiraments\n",
    "!pip install -r requirements.txt"
   ]
  },
  {
   "cell_type": "code",
   "execution_count": 2,
   "metadata": {},
   "outputs": [],
   "source": [
    "#import libraries\n",
    "import tensorflow as tf\n",
    "import CNN\n",
    "from CNN import IMAGES_SHAPE, N_LABELS, CNN\n",
    "from prepare_data import load_train_datatset, load_test_dataset, batch\n",
    "model_name = \"models/params\""
   ]
  },
  {
   "cell_type": "markdown",
   "metadata": {},
   "source": [
    "**Train network**"
   ]
  },
  {
   "cell_type": "code",
   "execution_count": null,
   "metadata": {},
   "outputs": [],
   "source": [
    "#not necessarily because the network is already trained\n",
    "cnn = CNN(IMAGES_SHAPE, N_LABELS)\n",
    "cnn.train(60,)"
   ]
  },
  {
   "cell_type": "markdown",
   "metadata": {},
   "source": [
    "**Accuracy and cost on dev data**"
   ]
  },
  {
   "cell_type": "markdown",
   "metadata": {},
   "source": [
    "![acc](pictures/acc.bmp)\n",
    "![cost](pictures/cost.bmp)\n"
   ]
  },
  {
   "cell_type": "markdown",
   "metadata": {},
   "source": [
    "**Test network**"
   ]
  },
  {
   "cell_type": "code",
   "execution_count": 3,
   "metadata": {},
   "outputs": [
    {
     "name": "stdout",
     "output_type": "stream",
     "text": [
      "INFO:tensorflow:Restoring parameters from models/params\n",
      "acc: 0.9975\n"
     ]
    }
   ],
   "source": [
    "tf.reset_default_graph()\n",
    "#create network and load data\n",
    "cnn = CNN(IMAGES_SHAPE, N_LABELS)\n",
    "X_test, Y_test = load_test_dataset()\n",
    "sess = tf.Session()\n",
    "init_op = tf.group(tf.global_variables_initializer(), tf.local_variables_initializer())\n",
    "sess.run(init_op)\n",
    "#load model\n",
    "saver = tf.train.Saver()\n",
    "saver.restore(sess, model_name)\n",
    "#test network\n",
    "accuracy_ = sess.run(cnn.accuracy, {cnn.input_: X_test, cnn.tf_y: Y_test})\n",
    "print(\"acc: \" + str(accuracy_))"
   ]
  },
  {
   "cell_type": "code",
   "execution_count": null,
   "metadata": {},
   "outputs": [],
   "source": []
  }
 ],
 "metadata": {
  "kernelspec": {
   "display_name": "Python 3",
   "language": "python",
   "name": "python3"
  },
  "language_info": {
   "codemirror_mode": {
    "name": "ipython",
    "version": 3
   },
   "file_extension": ".py",
   "mimetype": "text/x-python",
   "name": "python",
   "nbconvert_exporter": "python",
   "pygments_lexer": "ipython3",
   "version": "3.6.8"
  }
 },
 "nbformat": 4,
 "nbformat_minor": 1
}
